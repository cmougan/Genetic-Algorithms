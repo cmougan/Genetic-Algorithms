{
 "cells": [
  {
   "cell_type": "code",
   "execution_count": 1,
   "metadata": {},
   "outputs": [
    {
     "name": "stdout",
     "output_type": "stream",
     "text": [
      "Once deleted, variables cannot be recovered. Proceed (y/[n])? y\n"
     ]
    }
   ],
   "source": [
    "%reset"
   ]
  },
  {
   "cell_type": "code",
   "execution_count": 2,
   "metadata": {},
   "outputs": [],
   "source": [
    "import numpy as np\n",
    "import random\n",
    "import operator\n",
    "import time"
   ]
  },
  {
   "cell_type": "markdown",
   "metadata": {},
   "source": [
    "## Initialize Population"
   ]
  },
  {
   "cell_type": "code",
   "execution_count": 3,
   "metadata": {},
   "outputs": [
    {
     "data": {
      "text/plain": [
       "'uiin'"
      ]
     },
     "execution_count": 3,
     "metadata": {},
     "output_type": "execute_result"
    }
   ],
   "source": [
    "#Generation of a random word of a given length\n",
    "def generate_a_word(length):\n",
    "    word=''\n",
    "    for i in range(0,length):\n",
    "        letter=chr(97+int(random.random()*23))\n",
    "        word+=letter\n",
    "    return word\n",
    "generate_a_word(4)"
   ]
  },
  {
   "cell_type": "code",
   "execution_count": 4,
   "metadata": {},
   "outputs": [
    {
     "data": {
      "text/plain": [
       "['qm', 'ci', 'ji', 'gk']"
      ]
     },
     "execution_count": 4,
     "metadata": {},
     "output_type": "execute_result"
    }
   ],
   "source": [
    "#We create a random first population of a given size and the lenght of the password\n",
    "def generate_firs_pop(sizePopulation,password):\n",
    "    pop=[]\n",
    "    for i in range(0,sizePopulation):\n",
    "        pop.append(generate_a_word(len(password)))\n",
    "    return pop\n",
    "generate_firs_pop(4,'dd')"
   ]
  },
  {
   "cell_type": "markdown",
   "metadata": {},
   "source": [
    "## Evaluation"
   ]
  },
  {
   "cell_type": "code",
   "execution_count": 5,
   "metadata": {},
   "outputs": [
    {
     "data": {
      "text/plain": [
       "0.3333333333333333"
      ]
     },
     "execution_count": 5,
     "metadata": {},
     "output_type": "execute_result"
    }
   ],
   "source": [
    "#We define a fitness function of the number of equal characters\n",
    "def fitness(test_word,password):\n",
    "    if len(test_word)!=len(password):\n",
    "        return 'Not the same length'\n",
    "    score=0\n",
    "    for i in range(0,len(test_word)):\n",
    "        if (str(test_word[i])==str(password[i])):\n",
    "            score=score +1\n",
    "    return score/len(password)\n",
    "fitness('ada','abb')"
   ]
  },
  {
   "cell_type": "code",
   "execution_count": 6,
   "metadata": {},
   "outputs": [
    {
     "name": "stdout",
     "output_type": "stream",
     "text": [
      "[[1.0, 'aaaa'], [0.75, 'alaa'], [0.5, 'aaos'], [0.5, 'aadi']]\n"
     ]
    },
    {
     "data": {
      "text/plain": [
       "4"
      ]
     },
     "execution_count": 6,
     "metadata": {},
     "output_type": "execute_result"
    }
   ],
   "source": [
    "#We measure the performace of a given population for a given password and we return a sorted array of two pair values\n",
    "# the performance and the value\n",
    "def perf_pop(population,password):\n",
    "    performance=[]\n",
    "    for individual in range(0,len(population)):\n",
    "        performance.append([fitness(population[individual],password),population[individual]])\n",
    "        \n",
    "    return sorted(performance,reverse=True)\n",
    "aa=perf_pop(['alaa', 'aaos', 'aaaa', 'aadi'],'aaaa')\n",
    "print(aa)\n",
    "aa[0][1]\n",
    "len(aa)"
   ]
  },
  {
   "cell_type": "markdown",
   "metadata": {},
   "source": [
    "## Selection"
   ]
  },
  {
   "cell_type": "code",
   "execution_count": 98,
   "metadata": {},
   "outputs": [
    {
     "data": {
      "text/plain": [
       "('aaos', 'aaos')"
      ]
     },
     "execution_count": 98,
     "metadata": {},
     "output_type": "execute_result"
    }
   ],
   "source": [
    "#We select two individuals from the population. Biased towards the fitter with replacement\n",
    "def selectFromPopulation(pop_performance):\n",
    "    for i in range(len(pop_performance)):\n",
    "        pop_performance[i][0]=pop_performance[i][0]*random.random()\n",
    "    list=sorted(pop_performance,reverse=True)\n",
    "    ind1=list[random.randint(0,3)][1]\n",
    "    ind2=list[random.randint(0,3)][1]\n",
    "    \n",
    "    return ind1,ind2\n",
    "selectFromPopulation(aa)"
   ]
  },
  {
   "cell_type": "markdown",
   "metadata": {},
   "source": [
    "## Crossover"
   ]
  },
  {
   "cell_type": "code",
   "execution_count": 8,
   "metadata": {},
   "outputs": [
    {
     "data": {
      "text/plain": [
       "'aadi'"
      ]
     },
     "execution_count": 8,
     "metadata": {},
     "output_type": "execute_result"
    }
   ],
   "source": [
    "#Mixes the two parent genoma\n",
    "def create_child(ind1,ind2):\n",
    "    child=\"\"\n",
    "    for i in range(len(ind1)):\n",
    "        if (int(100*random.random())<50):\n",
    "            child+=ind1[i]\n",
    "        else:\n",
    "            child+=ind2[i]\n",
    "    return child\n",
    "create_child(selectFromPopulation(aa)[0],selectFromPopulation(aa)[1])"
   ]
  },
  {
   "cell_type": "code",
   "execution_count": 109,
   "metadata": {},
   "outputs": [
    {
     "data": {
      "text/plain": [
       "'alaa'"
      ]
     },
     "execution_count": 109,
     "metadata": {},
     "output_type": "execute_result"
    }
   ],
   "source": [
    "create_child('aaaaa','bbbbb')\n",
    "aa[1][1]"
   ]
  },
  {
   "cell_type": "code",
   "execution_count": 110,
   "metadata": {},
   "outputs": [
    {
     "data": {
      "text/plain": [
       "['aaaa', 'alos', 'aaos', 'aaaa']"
      ]
     },
     "execution_count": 110,
     "metadata": {},
     "output_type": "execute_result"
    }
   ],
   "source": [
    "#We create the next generation based on \n",
    "def create_children(pop_performance,size_population):\n",
    "    nextpop=[]\n",
    "    \n",
    "    for i in range(size_population):\n",
    "        if i<(size_population/10):\n",
    "            nextpop.append(pop_performance[i][1])\n",
    "        else:\n",
    "            nextpop.append(create_child(selectFromPopulation(pop_performance)[0],selectFromPopulation(pop_performance)[1]))\n",
    "    return nextpop\n",
    "\n",
    "#create_children(selectFromPopulation(perf_pop(['aaaa', 'bbbb', 'cccc', 'dddd'],'aaaa'),2,1),8)\n",
    "create_children(perf_pop(['alaa', 'aaos', 'aaaa', 'aadi'],'aaaa'),4)"
   ]
  },
  {
   "cell_type": "markdown",
   "metadata": {},
   "source": [
    "## Mutation"
   ]
  },
  {
   "cell_type": "code",
   "execution_count": 11,
   "metadata": {},
   "outputs": [],
   "source": [
    "def mutate_word(word):\n",
    "    index_modification=int(random.random()*len(word))\n",
    "    if index_modification==0:\n",
    "        word=chr(97+int(26*random.random()))+word[1:]\n",
    "    else:\n",
    "        word=word[:index_modification]+chr(97+int(26*random.random()))+word[int(index_modification+1):]\n",
    "    return word\n",
    "        "
   ]
  },
  {
   "cell_type": "code",
   "execution_count": 12,
   "metadata": {},
   "outputs": [
    {
     "name": "stdout",
     "output_type": "stream",
     "text": [
      "aaaaaaaaamaa\n",
      "aaaaaaaaaaaa\n",
      "aaaaaaaaaaja\n",
      "aaaaaaaaaaat\n",
      "ahaaaaaaaaaa\n",
      "aaaaaaaaiaaa\n",
      "aaaraaaaaaaa\n",
      "aaaaaaaaaaaa\n",
      "aaaasaaaaaaa\n",
      "akaaaaaaaaaa\n"
     ]
    }
   ],
   "source": [
    "for i in range (0,10):\n",
    "    print(mutate_word('aaaaaaaaaaaa'))"
   ]
  },
  {
   "cell_type": "code",
   "execution_count": 13,
   "metadata": {},
   "outputs": [
    {
     "data": {
      "text/plain": [
       "['aayi', 'aaaa', 'aaai', 'aads']"
      ]
     },
     "execution_count": 13,
     "metadata": {},
     "output_type": "execute_result"
    }
   ],
   "source": [
    "#This generates a new generation with a probability\n",
    "def mutate_population(population,probability):\n",
    "    for i in range(len(population)):\n",
    "        if random.random()*100<probability:\n",
    "            population[i]=mutate_word(population[i])\n",
    "    return population\n",
    "\n",
    "mutate_population(create_children(perf_pop(['alaa', 'aaos', 'aaaa', 'aadi'],'aaaa'),4),10)"
   ]
  },
  {
   "cell_type": "markdown",
   "metadata": {},
   "source": [
    "## Program"
   ]
  },
  {
   "cell_type": "code",
   "execution_count": 120,
   "metadata": {},
   "outputs": [],
   "source": [
    "password = \"abcdefghijkl\"\n",
    "sizePopulation = 50\n",
    "best_sample = 2#int(np.round(sizePopulation/2))\n",
    "lucky_few = 2#int(np.round(sizePopulation/4))\n",
    "number_of_child = 5\n",
    "number_of_generation = 500\n",
    "chance_of_mutation = 50"
   ]
  },
  {
   "cell_type": "code",
   "execution_count": 121,
   "metadata": {},
   "outputs": [
    {
     "name": "stdout",
     "output_type": "stream",
     "text": [
      "500\n",
      "[0.25, 'asadqjmoljsr']\n",
      "[0.16666666666666666, 'sfedvonrhngl']\n",
      "-------------\n",
      "[0.6666666666666666, 'mbcdgfghqjpl']\n",
      "[0.6666666666666666, 'ajcdeqghvjpl']\n",
      "-------------\n",
      "[0.5833333333333334, 'vbcdgiohijgl']\n",
      "[0.5833333333333334, 'vbcdgiohijgl']\n",
      "-------------\n",
      "[0.6666666666666666, 'vbcdewzhijcl']\n",
      "[0.5833333333333334, 'vbmdewkhijcl']\n",
      "-------------\n",
      "[0.6666666666666666, 'abcdvekhijcl']\n",
      "[0.5833333333333334, 'vbcdgonhijcl']\n",
      "-------------\n",
      "[0.75, 'absdeoohijkl']\n",
      "[0.75, 'abcreonhijkl']\n",
      "-------------\n",
      "[0.8333333333333334, 'abcdezohijkl']\n",
      "[0.8333333333333334, 'abcdeoohijkl']\n",
      "-------------\n",
      "[0.8333333333333334, 'abcdezwhijkl']\n",
      "[0.8333333333333334, 'abcdezwhijkl']\n",
      "-------------\n",
      "[0.8333333333333334, 'abcdezyhijkl']\n",
      "[0.8333333333333334, 'abcdezwhijkl']\n",
      "-------------\n",
      "[0.8333333333333334, 'abcdezwhijkl']\n",
      "[0.8333333333333334, 'abcdezqhijkl']\n",
      "-------------\n",
      "[0.8333333333333334, 'abcdezfhijkl']\n",
      "[0.75, 'mbcdeelhijkl']\n",
      "-------------\n",
      "[0.8333333333333334, 'abcdezfhijkl']\n",
      "[0.8333333333333334, 'abcdeimhijkl']\n",
      "-------------\n",
      "[0.8333333333333334, 'abcdezmhijkl']\n",
      "[0.8333333333333334, 'abcdezfhijkl']\n",
      "-------------\n",
      "[0.8333333333333334, 'abcdezmhijkl']\n",
      "[0.8333333333333334, 'abcdezmhijkl']\n",
      "-------------\n",
      "[0.8333333333333334, 'abcdezmhijkl']\n",
      "[0.8333333333333334, 'abcdezmhijkl']\n",
      "-------------\n",
      "[0.8333333333333334, 'abcdezmhijkl']\n",
      "[0.8333333333333334, 'abcdezmhijkl']\n",
      "-------------\n",
      "[0.8333333333333334, 'abcdezwhijkl']\n",
      "[0.8333333333333334, 'abcdezshijkl']\n",
      "-------------\n",
      "[0.8333333333333334, 'abcdezwhijkl']\n",
      "[0.8333333333333334, 'abcdezshijkl']\n",
      "-------------\n",
      "[0.8333333333333334, 'abcdezwhijkl']\n",
      "[0.8333333333333334, 'abcdetfhijkl']\n",
      "-------------\n",
      "[0.8333333333333334, 'abcdezwhijkl']\n",
      "[0.8333333333333334, 'abcdetfhijkl']\n",
      "-------------\n",
      "[0.8333333333333334, 'abcdezwhijkl']\n",
      "[0.8333333333333334, 'abcdezmhijkl']\n",
      "-------------\n",
      "A solution has been achieved in the loop: 115\n",
      "[1.0, 'abcdefghijkl']\n"
     ]
    }
   ],
   "source": [
    "#We initialize for the first time a population\n",
    "print(number_of_generation)\n",
    "population=generate_firs_pop(sizePopulation,password)\n",
    "\n",
    "\n",
    "#Let's start with the evolutionary algorithm\n",
    "for i in range(number_of_generation):\n",
    "    \n",
    "    #Evaluation of the fitness of the pop\n",
    "    performance=perf_pop(population,password)\n",
    "    #In case we achieve an optimal performance there is no need to continue with more generations\n",
    "    if '0' in str(i):\n",
    "        print(performance[0])\n",
    "        print(performance[1])\n",
    "        print('-------------')\n",
    "        \n",
    "    if performance[0][0]==1:\n",
    "        print('A solution has been achieved in the loop: '+str(i))\n",
    "        print(performance[0])\n",
    "        break\n",
    "        \n",
    "    # We select the best individuals from the previous population\n",
    "    population=mutate_population(create_children(performance,sizePopulation),chance_of_mutation)\n",
    "   "
   ]
  },
  {
   "cell_type": "code",
   "execution_count": null,
   "metadata": {},
   "outputs": [],
   "source": []
  },
  {
   "cell_type": "code",
   "execution_count": null,
   "metadata": {},
   "outputs": [],
   "source": []
  }
 ],
 "metadata": {
  "kernelspec": {
   "display_name": "Python 3",
   "language": "python",
   "name": "python3"
  },
  "language_info": {
   "codemirror_mode": {
    "name": "ipython",
    "version": 3
   },
   "file_extension": ".py",
   "mimetype": "text/x-python",
   "name": "python",
   "nbconvert_exporter": "python",
   "pygments_lexer": "ipython3",
   "version": "3.6.5"
  }
 },
 "nbformat": 4,
 "nbformat_minor": 2
}
